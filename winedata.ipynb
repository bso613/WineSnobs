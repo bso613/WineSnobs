{
 "cells": [
  {
   "cell_type": "code",
   "execution_count": 2,
   "metadata": {},
   "outputs": [],
   "source": [
    "#Importing Dependencies\n",
    "import pandas as pd\n",
    "import matplotlib.pyplot as plt\n",
    "import seaborn as sns\n",
    "import numpy as np\n",
    "import requests\n",
    "import os\n",
    "import json\n",
    "import time\n",
    "from scipy.stats import linregress\n",
    "from api_keys import weather_api_key\n",
    "# Import API key\n",
    "from api_keys import g_key\n",
    "\n",
    "#Access maps with unique API key"
   ]
  },
  {
   "cell_type": "code",
   "execution_count": 3,
   "metadata": {},
   "outputs": [
    {
     "data": {
      "text/html": [
       "<div>\n",
       "<style scoped>\n",
       "    .dataframe tbody tr th:only-of-type {\n",
       "        vertical-align: middle;\n",
       "    }\n",
       "\n",
       "    .dataframe tbody tr th {\n",
       "        vertical-align: top;\n",
       "    }\n",
       "\n",
       "    .dataframe thead th {\n",
       "        text-align: right;\n",
       "    }\n",
       "</style>\n",
       "<table border=\"1\" class=\"dataframe\">\n",
       "  <thead>\n",
       "    <tr style=\"text-align: right;\">\n",
       "      <th></th>\n",
       "      <th>country</th>\n",
       "      <th>description</th>\n",
       "      <th>designation</th>\n",
       "      <th>points</th>\n",
       "      <th>price</th>\n",
       "      <th>province</th>\n",
       "      <th>region_1</th>\n",
       "      <th>region_2</th>\n",
       "      <th>taster_name</th>\n",
       "      <th>taster_twitter_handle</th>\n",
       "      <th>title</th>\n",
       "      <th>variety</th>\n",
       "      <th>winery</th>\n",
       "    </tr>\n",
       "    <tr>\n",
       "      <th>Index</th>\n",
       "      <th></th>\n",
       "      <th></th>\n",
       "      <th></th>\n",
       "      <th></th>\n",
       "      <th></th>\n",
       "      <th></th>\n",
       "      <th></th>\n",
       "      <th></th>\n",
       "      <th></th>\n",
       "      <th></th>\n",
       "      <th></th>\n",
       "      <th></th>\n",
       "      <th></th>\n",
       "    </tr>\n",
       "  </thead>\n",
       "  <tbody>\n",
       "    <tr>\n",
       "      <th>0</th>\n",
       "      <td>Italy</td>\n",
       "      <td>Aromas include tropical fruit, broom, brimston...</td>\n",
       "      <td>Vulkà Bianco</td>\n",
       "      <td>87</td>\n",
       "      <td>NaN</td>\n",
       "      <td>Sicily &amp; Sardinia</td>\n",
       "      <td>Etna</td>\n",
       "      <td>NaN</td>\n",
       "      <td>Kerin O’Keefe</td>\n",
       "      <td>@kerinokeefe</td>\n",
       "      <td>Nicosia 2013 Vulkà Bianco  (Etna)</td>\n",
       "      <td>White Blend</td>\n",
       "      <td>Nicosia</td>\n",
       "    </tr>\n",
       "    <tr>\n",
       "      <th>1</th>\n",
       "      <td>Portugal</td>\n",
       "      <td>This is ripe and fruity, a wine that is smooth...</td>\n",
       "      <td>Avidagos</td>\n",
       "      <td>87</td>\n",
       "      <td>15.0</td>\n",
       "      <td>Douro</td>\n",
       "      <td>NaN</td>\n",
       "      <td>NaN</td>\n",
       "      <td>Roger Voss</td>\n",
       "      <td>@vossroger</td>\n",
       "      <td>Quinta dos Avidagos 2011 Avidagos Red (Douro)</td>\n",
       "      <td>Portuguese Red</td>\n",
       "      <td>Quinta dos Avidagos</td>\n",
       "    </tr>\n",
       "    <tr>\n",
       "      <th>2</th>\n",
       "      <td>US</td>\n",
       "      <td>Tart and snappy, the flavors of lime flesh and...</td>\n",
       "      <td>NaN</td>\n",
       "      <td>87</td>\n",
       "      <td>14.0</td>\n",
       "      <td>Oregon</td>\n",
       "      <td>Willamette Valley</td>\n",
       "      <td>Willamette Valley</td>\n",
       "      <td>Paul Gregutt</td>\n",
       "      <td>@paulgwine</td>\n",
       "      <td>Rainstorm 2013 Pinot Gris (Willamette Valley)</td>\n",
       "      <td>Pinot Gris</td>\n",
       "      <td>Rainstorm</td>\n",
       "    </tr>\n",
       "    <tr>\n",
       "      <th>3</th>\n",
       "      <td>US</td>\n",
       "      <td>Pineapple rind, lemon pith and orange blossom ...</td>\n",
       "      <td>Reserve Late Harvest</td>\n",
       "      <td>87</td>\n",
       "      <td>13.0</td>\n",
       "      <td>Michigan</td>\n",
       "      <td>Lake Michigan Shore</td>\n",
       "      <td>NaN</td>\n",
       "      <td>Alexander Peartree</td>\n",
       "      <td>NaN</td>\n",
       "      <td>St. Julian 2013 Reserve Late Harvest Riesling ...</td>\n",
       "      <td>Riesling</td>\n",
       "      <td>St. Julian</td>\n",
       "    </tr>\n",
       "    <tr>\n",
       "      <th>4</th>\n",
       "      <td>US</td>\n",
       "      <td>Much like the regular bottling from 2012, this...</td>\n",
       "      <td>Vintner's Reserve Wild Child Block</td>\n",
       "      <td>87</td>\n",
       "      <td>65.0</td>\n",
       "      <td>Oregon</td>\n",
       "      <td>Willamette Valley</td>\n",
       "      <td>Willamette Valley</td>\n",
       "      <td>Paul Gregutt</td>\n",
       "      <td>@paulgwine</td>\n",
       "      <td>Sweet Cheeks 2012 Vintner's Reserve Wild Child...</td>\n",
       "      <td>Pinot Noir</td>\n",
       "      <td>Sweet Cheeks</td>\n",
       "    </tr>\n",
       "    <tr>\n",
       "      <th>...</th>\n",
       "      <td>...</td>\n",
       "      <td>...</td>\n",
       "      <td>...</td>\n",
       "      <td>...</td>\n",
       "      <td>...</td>\n",
       "      <td>...</td>\n",
       "      <td>...</td>\n",
       "      <td>...</td>\n",
       "      <td>...</td>\n",
       "      <td>...</td>\n",
       "      <td>...</td>\n",
       "      <td>...</td>\n",
       "      <td>...</td>\n",
       "    </tr>\n",
       "    <tr>\n",
       "      <th>129966</th>\n",
       "      <td>Germany</td>\n",
       "      <td>Notes of honeysuckle and cantaloupe sweeten th...</td>\n",
       "      <td>Brauneberger Juffer-Sonnenuhr Spätlese</td>\n",
       "      <td>90</td>\n",
       "      <td>28.0</td>\n",
       "      <td>Mosel</td>\n",
       "      <td>NaN</td>\n",
       "      <td>NaN</td>\n",
       "      <td>Anna Lee C. Iijima</td>\n",
       "      <td>NaN</td>\n",
       "      <td>Dr. H. Thanisch (Erben Müller-Burggraef) 2013 ...</td>\n",
       "      <td>Riesling</td>\n",
       "      <td>Dr. H. Thanisch (Erben Müller-Burggraef)</td>\n",
       "    </tr>\n",
       "    <tr>\n",
       "      <th>129967</th>\n",
       "      <td>US</td>\n",
       "      <td>Citation is given as much as a decade of bottl...</td>\n",
       "      <td>NaN</td>\n",
       "      <td>90</td>\n",
       "      <td>75.0</td>\n",
       "      <td>Oregon</td>\n",
       "      <td>Oregon</td>\n",
       "      <td>Oregon Other</td>\n",
       "      <td>Paul Gregutt</td>\n",
       "      <td>@paulgwine</td>\n",
       "      <td>Citation 2004 Pinot Noir (Oregon)</td>\n",
       "      <td>Pinot Noir</td>\n",
       "      <td>Citation</td>\n",
       "    </tr>\n",
       "    <tr>\n",
       "      <th>129968</th>\n",
       "      <td>France</td>\n",
       "      <td>Well-drained gravel soil gives this wine its c...</td>\n",
       "      <td>Kritt</td>\n",
       "      <td>90</td>\n",
       "      <td>30.0</td>\n",
       "      <td>Alsace</td>\n",
       "      <td>Alsace</td>\n",
       "      <td>NaN</td>\n",
       "      <td>Roger Voss</td>\n",
       "      <td>@vossroger</td>\n",
       "      <td>Domaine Gresser 2013 Kritt Gewurztraminer (Als...</td>\n",
       "      <td>Gewürztraminer</td>\n",
       "      <td>Domaine Gresser</td>\n",
       "    </tr>\n",
       "    <tr>\n",
       "      <th>129969</th>\n",
       "      <td>France</td>\n",
       "      <td>A dry style of Pinot Gris, this is crisp with ...</td>\n",
       "      <td>NaN</td>\n",
       "      <td>90</td>\n",
       "      <td>32.0</td>\n",
       "      <td>Alsace</td>\n",
       "      <td>Alsace</td>\n",
       "      <td>NaN</td>\n",
       "      <td>Roger Voss</td>\n",
       "      <td>@vossroger</td>\n",
       "      <td>Domaine Marcel Deiss 2012 Pinot Gris (Alsace)</td>\n",
       "      <td>Pinot Gris</td>\n",
       "      <td>Domaine Marcel Deiss</td>\n",
       "    </tr>\n",
       "    <tr>\n",
       "      <th>129970</th>\n",
       "      <td>France</td>\n",
       "      <td>Big, rich and off-dry, this is powered by inte...</td>\n",
       "      <td>Lieu-dit Harth Cuvée Caroline</td>\n",
       "      <td>90</td>\n",
       "      <td>21.0</td>\n",
       "      <td>Alsace</td>\n",
       "      <td>Alsace</td>\n",
       "      <td>NaN</td>\n",
       "      <td>Roger Voss</td>\n",
       "      <td>@vossroger</td>\n",
       "      <td>Domaine Schoffit 2012 Lieu-dit Harth Cuvée Car...</td>\n",
       "      <td>Gewürztraminer</td>\n",
       "      <td>Domaine Schoffit</td>\n",
       "    </tr>\n",
       "  </tbody>\n",
       "</table>\n",
       "<p>129971 rows × 13 columns</p>\n",
       "</div>"
      ],
      "text/plain": [
       "         country                                        description  \\\n",
       "Index                                                                 \n",
       "0          Italy  Aromas include tropical fruit, broom, brimston...   \n",
       "1       Portugal  This is ripe and fruity, a wine that is smooth...   \n",
       "2             US  Tart and snappy, the flavors of lime flesh and...   \n",
       "3             US  Pineapple rind, lemon pith and orange blossom ...   \n",
       "4             US  Much like the regular bottling from 2012, this...   \n",
       "...          ...                                                ...   \n",
       "129966   Germany  Notes of honeysuckle and cantaloupe sweeten th...   \n",
       "129967        US  Citation is given as much as a decade of bottl...   \n",
       "129968    France  Well-drained gravel soil gives this wine its c...   \n",
       "129969    France  A dry style of Pinot Gris, this is crisp with ...   \n",
       "129970    France  Big, rich and off-dry, this is powered by inte...   \n",
       "\n",
       "                                   designation  points  price  \\\n",
       "Index                                                           \n",
       "0                                 Vulkà Bianco      87    NaN   \n",
       "1                                     Avidagos      87   15.0   \n",
       "2                                          NaN      87   14.0   \n",
       "3                         Reserve Late Harvest      87   13.0   \n",
       "4           Vintner's Reserve Wild Child Block      87   65.0   \n",
       "...                                        ...     ...    ...   \n",
       "129966  Brauneberger Juffer-Sonnenuhr Spätlese      90   28.0   \n",
       "129967                                     NaN      90   75.0   \n",
       "129968                                   Kritt      90   30.0   \n",
       "129969                                     NaN      90   32.0   \n",
       "129970           Lieu-dit Harth Cuvée Caroline      90   21.0   \n",
       "\n",
       "                 province             region_1           region_2  \\\n",
       "Index                                                               \n",
       "0       Sicily & Sardinia                 Etna                NaN   \n",
       "1                   Douro                  NaN                NaN   \n",
       "2                  Oregon    Willamette Valley  Willamette Valley   \n",
       "3                Michigan  Lake Michigan Shore                NaN   \n",
       "4                  Oregon    Willamette Valley  Willamette Valley   \n",
       "...                   ...                  ...                ...   \n",
       "129966              Mosel                  NaN                NaN   \n",
       "129967             Oregon               Oregon       Oregon Other   \n",
       "129968             Alsace               Alsace                NaN   \n",
       "129969             Alsace               Alsace                NaN   \n",
       "129970             Alsace               Alsace                NaN   \n",
       "\n",
       "               taster_name taster_twitter_handle  \\\n",
       "Index                                              \n",
       "0            Kerin O’Keefe          @kerinokeefe   \n",
       "1               Roger Voss            @vossroger   \n",
       "2             Paul Gregutt           @paulgwine    \n",
       "3       Alexander Peartree                   NaN   \n",
       "4             Paul Gregutt           @paulgwine    \n",
       "...                    ...                   ...   \n",
       "129966  Anna Lee C. Iijima                   NaN   \n",
       "129967        Paul Gregutt           @paulgwine    \n",
       "129968          Roger Voss            @vossroger   \n",
       "129969          Roger Voss            @vossroger   \n",
       "129970          Roger Voss            @vossroger   \n",
       "\n",
       "                                                    title         variety  \\\n",
       "Index                                                                       \n",
       "0                       Nicosia 2013 Vulkà Bianco  (Etna)     White Blend   \n",
       "1           Quinta dos Avidagos 2011 Avidagos Red (Douro)  Portuguese Red   \n",
       "2           Rainstorm 2013 Pinot Gris (Willamette Valley)      Pinot Gris   \n",
       "3       St. Julian 2013 Reserve Late Harvest Riesling ...        Riesling   \n",
       "4       Sweet Cheeks 2012 Vintner's Reserve Wild Child...      Pinot Noir   \n",
       "...                                                   ...             ...   \n",
       "129966  Dr. H. Thanisch (Erben Müller-Burggraef) 2013 ...        Riesling   \n",
       "129967                  Citation 2004 Pinot Noir (Oregon)      Pinot Noir   \n",
       "129968  Domaine Gresser 2013 Kritt Gewurztraminer (Als...  Gewürztraminer   \n",
       "129969      Domaine Marcel Deiss 2012 Pinot Gris (Alsace)      Pinot Gris   \n",
       "129970  Domaine Schoffit 2012 Lieu-dit Harth Cuvée Car...  Gewürztraminer   \n",
       "\n",
       "                                          winery  \n",
       "Index                                             \n",
       "0                                        Nicosia  \n",
       "1                            Quinta dos Avidagos  \n",
       "2                                      Rainstorm  \n",
       "3                                     St. Julian  \n",
       "4                                   Sweet Cheeks  \n",
       "...                                          ...  \n",
       "129966  Dr. H. Thanisch (Erben Müller-Burggraef)  \n",
       "129967                                  Citation  \n",
       "129968                           Domaine Gresser  \n",
       "129969                      Domaine Marcel Deiss  \n",
       "129970                          Domaine Schoffit  \n",
       "\n",
       "[129971 rows x 13 columns]"
      ]
     },
     "execution_count": 3,
     "metadata": {},
     "output_type": "execute_result"
    }
   ],
   "source": [
    "#Pulling Data from CSV\n",
    "file = \"archive/winemag-data-130k-v2.csv\"\n",
    "#Creating Base Dataframe\n",
    "df = pd.read_csv(file, index_col=0)\n",
    "df"
   ]
  },
  {
   "cell_type": "code",
   "execution_count": null,
   "metadata": {},
   "outputs": [],
   "source": [
    "#Dropping usless columns\n",
    "df = df.drop(columns= ['region_2', 'taster_twitter_handle'])\n",
    "df"
   ]
  },
  {
   "cell_type": "code",
   "execution_count": null,
   "metadata": {},
   "outputs": [],
   "source": []
  },
  {
   "cell_type": "code",
   "execution_count": null,
   "metadata": {},
   "outputs": [],
   "source": [
    "#Reorganizing order of header\n",
    "df = df[['winery','title','variety','country','province','region_1','price','points','taster_name','description', 'designation']]\n",
    "df"
   ]
  },
  {
   "cell_type": "code",
   "execution_count": null,
   "metadata": {},
   "outputs": [],
   "source": []
  },
  {
   "cell_type": "code",
   "execution_count": null,
   "metadata": {},
   "outputs": [],
   "source": [
    "#Renaming/Cleaning headers \n",
    "df = df.rename(columns={'variety': 'Grape Type',\n",
    "                       'region_1': 'Sub-Region',\n",
    "                       'taster_name': 'Wine Critic',\n",
    "                       'designation': 'Additional Designations',\n",
    "                       'winery': 'Winery',\n",
    "                       'title': 'Name of Wine',\n",
    "                       })\n",
    "df"
   ]
  },
  {
   "cell_type": "code",
   "execution_count": null,
   "metadata": {},
   "outputs": [],
   "source": [
    "#Cleaning Headers\n",
    "df.columns = df.columns.str.title()"
   ]
  },
  {
   "cell_type": "code",
   "execution_count": null,
   "metadata": {},
   "outputs": [],
   "source": [
    "df"
   ]
  },
  {
   "cell_type": "code",
   "execution_count": null,
   "metadata": {},
   "outputs": [],
   "source": [
    "#Dropping Nan values in important data metrics \n",
    "df = df.dropna(axis=0, how= 'any', subset= ['Price','Points','Wine Critic'])\n",
    "df"
   ]
  },
  {
   "cell_type": "code",
   "execution_count": null,
   "metadata": {},
   "outputs": [],
   "source": [
    "# Displaying boxplot/IQR of prices of wines by country\n",
    "country = sns.boxplot(y=\"Country\", x=\"Price\", data=df, whis=np.inf)\n",
    "#country = sns.stripplot(y=\"Country\", x=\"Price\", data=df, color=\".3\")\n",
    "country = sns.set(rc={'figure.figsize':(20,80)}, font_scale= 1.5)"
   ]
  },
  {
   "cell_type": "code",
   "execution_count": null,
   "metadata": {},
   "outputs": [],
   "source": [
    "#Describing the main data frame\n",
    "df.describe()"
   ]
  },
  {
   "cell_type": "code",
   "execution_count": null,
   "metadata": {},
   "outputs": [],
   "source": []
  },
  {
   "cell_type": "code",
   "execution_count": null,
   "metadata": {},
   "outputs": [],
   "source": [
    "#Grouping Data by Country\n",
    "country_group = df.groupby(by= 'Country')\n",
    "#Finding mean of country data\n",
    "country_df = country_group.mean()\n",
    "country_df"
   ]
  },
  {
   "cell_type": "code",
   "execution_count": null,
   "metadata": {},
   "outputs": [],
   "source": []
  },
  {
   "cell_type": "code",
   "execution_count": null,
   "metadata": {},
   "outputs": [],
   "source": [
    "#Sorting Data by Price(Ascending)\n",
    "price_df = country_df.sort_values(by= 'Price')\n",
    "price_df"
   ]
  },
  {
   "cell_type": "code",
   "execution_count": null,
   "metadata": {
    "scrolled": true
   },
   "outputs": [],
   "source": [
    "#Visualizing average price of a bottle of reviewed wine per country\n",
    "price_df[\"Price\"].plot(kind=\"bar\", facecolor=\"red\", figsize=(15,5));"
   ]
  },
  {
   "cell_type": "code",
   "execution_count": null,
   "metadata": {},
   "outputs": [],
   "source": []
  },
  {
   "cell_type": "code",
   "execution_count": null,
   "metadata": {},
   "outputs": [],
   "source": [
    "#Examining Switzerland data\n",
    "swiss_df = df[df['Country'] == 'Switzerland']\n",
    "swiss_df"
   ]
  },
  {
   "cell_type": "code",
   "execution_count": null,
   "metadata": {},
   "outputs": [],
   "source": [
    "#Boxplot of Switzerland to try and uncover any outliers\n",
    "#add a box plot + stripchart\n",
    "swiss = sns.boxplot(x=\"Price\", y=\"Country\", data=swiss_df, whis=np.inf)\n",
    "#swiss = sns.stripplot(x=\"Price\", y=\"Country\", data=swiss_df, color=\".3\")"
   ]
  },
  {
   "cell_type": "code",
   "execution_count": null,
   "metadata": {},
   "outputs": [],
   "source": []
  },
  {
   "cell_type": "code",
   "execution_count": null,
   "metadata": {},
   "outputs": [],
   "source": [
    "#Describing Swiss Data\n",
    "swiss_df.describe()"
   ]
  },
  {
   "cell_type": "code",
   "execution_count": null,
   "metadata": {},
   "outputs": [],
   "source": [
    "#Sorting Data by Points(Ascending)\n",
    "points_df = country_df.sort_values(by= 'Points')\n",
    "points_df"
   ]
  },
  {
   "cell_type": "code",
   "execution_count": null,
   "metadata": {},
   "outputs": [],
   "source": [
    "#Plotting bar chart showing avg points given to a btl reviewed wine in each country\n",
    "points_df[\"Points\"].plot(kind=\"bar\", facecolor=\"blue\", figsize=(15,5));"
   ]
  },
  {
   "cell_type": "code",
   "execution_count": null,
   "metadata": {},
   "outputs": [],
   "source": [
    "#Adding new column to uncover the average $ it costs consumers per point rating in each country\n",
    "country_df['Average Price per Point ($)'] = round(country_df['Price']/country_df['Points'],2)\n",
    "country_df"
   ]
  },
  {
   "cell_type": "code",
   "execution_count": null,
   "metadata": {},
   "outputs": [],
   "source": [
    "#Sorting data by Avg Price per point\n",
    "ppp_df = country_df.sort_values(by= 'Average Price per Point ($)')\n",
    "ppp_df"
   ]
  },
  {
   "cell_type": "code",
   "execution_count": null,
   "metadata": {
    "scrolled": true
   },
   "outputs": [],
   "source": [
    "#Plotting Avg PPP data\n",
    "ppp_df[\"Average Price per Point ($)\"].plot(kind=\"bar\", facecolor=\"blue\", figsize=(15,5));"
   ]
  },
  {
   "cell_type": "code",
   "execution_count": null,
   "metadata": {},
   "outputs": [],
   "source": []
  },
  {
   "cell_type": "code",
   "execution_count": null,
   "metadata": {},
   "outputs": [],
   "source": [
    "#Displaying how many wines were reviewed per country\n",
    "dfg = df.groupby(by= 'Country').count()\n",
    "dfg = dfg[['Wine Critic']]\n",
    "dfg = dfg.sort_values(by= 'Wine Critic')\n",
    "dfg"
   ]
  },
  {
   "cell_type": "code",
   "execution_count": null,
   "metadata": {},
   "outputs": [],
   "source": [
    "#Plotting in bar chart the amount of reviews per country\n",
    "dfg['Wine Critic'].plot(kind='bar', facecolor='green', figsize=(15,5))"
   ]
  },
  {
   "cell_type": "code",
   "execution_count": null,
   "metadata": {},
   "outputs": [],
   "source": [
    "#Grouping Data by Wine Critic\n",
    "critic_group = df.groupby(by= 'Wine Critic')\n",
    "\n",
    "critic_df = critic_group.count()\n",
    "critic_df"
   ]
  },
  {
   "cell_type": "code",
   "execution_count": null,
   "metadata": {},
   "outputs": [],
   "source": [
    "#Counting how many reviews each critic has done\n",
    "crit_df = critic_df[['Winery']]\n",
    "crit_df"
   ]
  },
  {
   "cell_type": "code",
   "execution_count": null,
   "metadata": {},
   "outputs": [],
   "source": [
    "#Sorting data in Ascending order\n",
    "crit_sort = crit_df.sort_values(by= 'Winery')\n",
    "crit_sort"
   ]
  },
  {
   "cell_type": "code",
   "execution_count": null,
   "metadata": {},
   "outputs": [],
   "source": [
    "#Plotting bar chart to show how many reviews done per critic\n",
    "crit_sort['Winery'].plot(kind='bar', facecolor='purple', figsize=(15,5))"
   ]
  },
  {
   "cell_type": "code",
   "execution_count": null,
   "metadata": {},
   "outputs": [],
   "source": [
    "#Finding the mean for Price and Points in a Wine Crtic Groupby\n",
    "crit_mean = critic_group.mean()\n",
    "crit_mean"
   ]
  },
  {
   "cell_type": "code",
   "execution_count": null,
   "metadata": {},
   "outputs": [],
   "source": []
  },
  {
   "cell_type": "code",
   "execution_count": null,
   "metadata": {},
   "outputs": [],
   "source": [
    "#Sorting Data by Points in Ascending\n",
    "crit_points = crit_mean.sort_values(by= 'Points')\n",
    "crit_points"
   ]
  },
  {
   "cell_type": "code",
   "execution_count": null,
   "metadata": {},
   "outputs": [],
   "source": [
    "#Plotting mean of points by critic \n",
    "crit_points[\"Points\"].plot(kind=\"bar\", facecolor=\"blue\", figsize=(15,5));"
   ]
  },
  {
   "cell_type": "code",
   "execution_count": null,
   "metadata": {},
   "outputs": [],
   "source": [
    "#Sorting wine critic data by price in ascending\n",
    "crit_price = crit_mean.sort_values(by= 'Price')\n",
    "crit_price"
   ]
  },
  {
   "cell_type": "code",
   "execution_count": null,
   "metadata": {},
   "outputs": [],
   "source": [
    "#Plotting bar chart to show avg price of btl reviewed by each critic\n",
    "crit_price[\"Price\"].plot(kind=\"bar\", facecolor=\"blue\", figsize=(15,5));"
   ]
  },
  {
   "cell_type": "code",
   "execution_count": null,
   "metadata": {},
   "outputs": [],
   "source": [
    "#Creating new column calculating the avergae price of the wine per point given by each critic\n",
    "crit_mean['Average Price per Point ($)'] = round(crit_mean['Price']/crit_mean['Points'],2)\n",
    "crit_mean"
   ]
  },
  {
   "cell_type": "code",
   "execution_count": null,
   "metadata": {},
   "outputs": [],
   "source": [
    "#Sorting the new average in ascending\n",
    "crit_avg = crit_mean.sort_values(by= 'Average Price per Point ($)')\n",
    "crit_avg"
   ]
  },
  {
   "cell_type": "code",
   "execution_count": null,
   "metadata": {},
   "outputs": [],
   "source": [
    "#Plotting bar chart to show the new sorted data\n",
    "crit_avg[\"Average Price per Point ($)\"].plot(kind=\"bar\", facecolor=\"blue\", figsize=(15,5));"
   ]
  },
  {
   "cell_type": "code",
   "execution_count": null,
   "metadata": {
    "scrolled": true
   },
   "outputs": [],
   "source": [
    "# Range of latitudes and longitudes\n",
    "lat_range = (-90, 90)\n",
    "lng_range = (-180, 180)\n",
    "\n",
    "\n",
    "\n",
    "url = f\"https://maps.googleapis.com/maps/api/geocode/json?\"\n",
    "\n",
    "params = {'key': g_key}\n",
    "\n",
    "# location_response = requests.get(url = url, params = params)\n",
    "# location_data = location_response.json()\n",
    "\n",
    "\n",
    "# define count of pass throughs\n",
    "count_one = 0\n",
    "set_one = 1"
   ]
  },
  {
   "cell_type": "code",
   "execution_count": null,
   "metadata": {},
   "outputs": [],
   "source": [
    "country_list =[]\n",
    "province_list = []\n",
    "\n",
    "for province in df['Province']:\n",
    "    province_list.append(province)\n",
    "    \n",
    "\n",
    "for country in df['Country']:\n",
    "    country_list.append(country)\n",
    "\n",
    "location_list = []\n",
    "skipped = []\n",
    "\n",
    "# for location in range(len(country_list)):\n",
    "#     print(location)\n",
    "#     try:\n",
    "#         params['address'] = f\"{country_list[location]},{province_list[location]}\"\n",
    "#         print(params['address'])\n",
    "#         location_response = requests.get(url = url, params = params)\n",
    "#         location_data = location_response.json()\n",
    "#         location = {}\n",
    "#         location['Latitude'] = location_data['results'][0]['geometry']['location']['lat']\n",
    "#         location['Longitude'] = location_data['results'][0]['geometry']['location']['lng']\n",
    "#         location_list.append(location)\n",
    "        \n",
    "#     except:\n",
    "#         location['Latitude'] = np.nan\n",
    "#         location['Longitude'] = np.nan\n",
    "#         location_list.append(location)\n",
    "#         print('Skipped')\n",
    "#         continue\n",
    "        \n",
    "#     if location == 10:\n",
    "#         break\n",
    "        \n",
    "        \n",
    "\n"
   ]
  },
  {
   "cell_type": "code",
   "execution_count": null,
   "metadata": {},
   "outputs": [],
   "source": [
    "# df_location = pd.DataFrame(location_list)\n",
    "df_location = pd.read_csv('archive/location_data.csv', index_col=0)\n",
    "df_location"
   ]
  },
  {
   "cell_type": "code",
   "execution_count": null,
   "metadata": {},
   "outputs": [],
   "source": [
    "df_location['Country'] = country_list\n",
    "df_location['Province'] = province_list\n",
    "df_location"
   ]
  },
  {
   "cell_type": "code",
   "execution_count": null,
   "metadata": {},
   "outputs": [],
   "source": [
    "prov_grp = df_location.groupby(by='Province').mean()\n",
    "prov_grp"
   ]
  },
  {
   "cell_type": "code",
   "execution_count": null,
   "metadata": {},
   "outputs": [],
   "source": [
    "index = prov_grp.index\n",
    "index"
   ]
  },
  {
   "cell_type": "code",
   "execution_count": null,
   "metadata": {},
   "outputs": [],
   "source": [
    "len(prov_grp)"
   ]
  },
  {
   "cell_type": "code",
   "execution_count": null,
   "metadata": {},
   "outputs": [],
   "source": [
    "from api_keys import weather_api_key\n",
    "# Initialize values for for loop - \n",
    "# counter to keep track of records for print statement and \n",
    "count = 0\n",
    "# empty list to store weather data to make into\n",
    "province_weather = []\n",
    "\n",
    "url = \"http://api.openweathermap.org/data/2.5/weather?\"\n",
    "params = {'appid': weather_api_key,\n",
    "         'units': 'metric'}\n",
    "\n",
    "print(f'Beginning Data Retrieval')\n",
    "print('-----------------------------')\n",
    "\n",
    "# for loop to iterate through cities selected\n",
    "for province in index:\n",
    "    \n",
    "    print(f'Processing Record {count} | {province}')\n",
    "    \n",
    "    if count > 415:\n",
    "        break\n",
    "    else:\n",
    "        # Set URL paramater for the location\n",
    "        print(count)\n",
    "        count += 1\n",
    "        params['lat'] = prov_grp.iloc[count, 0]\n",
    "        params['lon'] = prov_grp.iloc[count, 1]\n",
    "\n",
    "        # Exception handling - if city is not in OpenWeather API skip\n",
    "        try:\n",
    "            # Build query URL\n",
    "            weather_response = requests.get(url = url, params = params)\n",
    "            weather_data = weather_response.json()\n",
    "\n",
    "            # Create dictionary for data from API call\n",
    "            weather = {}\n",
    "\n",
    "            # Create key's and assign data to it based on API call\n",
    "            weather['Province'] = province\n",
    "            weather['Description'] = weather_data['weather'][0]['description']\n",
    "            weather['Lat'] = weather_data['coord']['lat']\n",
    "            weather['Lng'] = weather_data['coord']['lon']\n",
    "            weather['Temp'] = weather_data['main']['temp']\n",
    "            weather['Humidity'] = weather_data['main']['humidity']\n",
    "            weather['Cloudiness'] = weather_data['clouds']['all']\n",
    "            weather['Wind Speed'] = weather_data['wind']['speed']\n",
    "            weather['Country'] = weather_data['sys']['country']\n",
    "            weather['Date'] = weather_data['dt']\n",
    "            # Add dictionary to end of list\n",
    "            province_weather.append(weather)\n",
    "        except:\n",
    "            print(f'Province not found. Skipping...')\n",
    "            continue\n",
    "\n",
    "print('-----------------------------')\n",
    "print('Data Retrieval Complete') \n",
    "print('-----------------------------')"
   ]
  },
  {
   "cell_type": "code",
   "execution_count": null,
   "metadata": {},
   "outputs": [],
   "source": [
    "province_weather = pd.DataFrame(province_weather)\n",
    "province_weather"
   ]
  },
  {
   "cell_type": "code",
   "execution_count": null,
   "metadata": {},
   "outputs": [],
   "source": [
    "weather_merge = pd.merge(df, province_weather, on=['Province'], how='left')"
   ]
  },
  {
   "cell_type": "code",
   "execution_count": null,
   "metadata": {},
   "outputs": [],
   "source": [
    "weather_merge"
   ]
  },
  {
   "cell_type": "code",
   "execution_count": null,
   "metadata": {},
   "outputs": [],
   "source": [
    "weather_clean = weather_merge.dropna(axis=0, how= 'any', subset= ['Temp', 'Lat', 'Country_y'])\n",
    "weather_clean.describe()\n",
    "weather_clean.nunique()"
   ]
  },
  {
   "cell_type": "code",
   "execution_count": null,
   "metadata": {
    "scrolled": false
   },
   "outputs": [],
   "source": [
    "# Lat vs temp\n",
    "from matplotlib.pyplot import figure\n",
    "figure(figsize=(8,10), dpi=80)\n",
    "x_values = weather_clean['Lat']\n",
    "y_values = weather_clean['Temp']\n",
    "plt.scatter(x_values,y_values, edgecolors=\"black\")\n",
    "plt.title('Winery Latitude vs. Temperature (10/03/21)')\n",
    "plt.xlabel('Latitude')\n",
    "plt.ylabel('Temperature (F)')\n",
    "plt.grid(b=True, axis='both')\n",
    "plt.tight_layout()\n",
    "\n",
    "# plt.savefig(\"../images/lat_temp.png\")\n",
    "plt.show();"
   ]
  },
  {
   "cell_type": "code",
   "execution_count": null,
   "metadata": {},
   "outputs": [],
   "source": [
    "# Create bins for different Hemispheres\n",
    "bins = [-90, -.1, 90]\n",
    "\n",
    "group_names = ['Southern Hemisphere', 'Northern Hemisphere']\n",
    "\n",
    "weather_clean[\"Hemisphere\"] = pd.cut(weather_clean['Lat'], bins, \n",
    "                                  labels=group_names, include_lowest=True)\n",
    "\n",
    "#Filter by the bins\n",
    "north_df = weather_clean[weather_clean['Hemisphere']==\"Northern Hemisphere\"]\n",
    "south_df = weather_clean[weather_clean['Hemisphere']==\"Southern Hemisphere\"]"
   ]
  },
  {
   "cell_type": "code",
   "execution_count": null,
   "metadata": {},
   "outputs": [],
   "source": [
    "x_values = north_df['Lat']\n",
    "y_values = north_df['Temp']\n",
    "figure(figsize=(8,10), dpi=80)\n",
    "(slope, intercept, rvalue, pvalue, stderr) = linregress(x_values, y_values)\n",
    "regress_values = x_values * slope + intercept\n",
    "line_eq = \"y = \" + str(round(slope,2)) + \"x + \" + str(round(intercept,2))\n",
    "plt.scatter(x_values,y_values)\n",
    "plt.plot(x_values,regress_values,\"r-\")\n",
    "plt.annotate(line_eq,(10,40),fontsize=15,color=\"red\")\n",
    "plt.xlabel('Winery Latitude')\n",
    "plt.ylabel('Max Temp (F)')\n",
    "plt.title('Northern Winery Latitude vs. Temperature (10/03/21)')\n",
    "print(f\"The r-value is: {rvalue}\")\n",
    "# plt.savefig(\"images/north_lat_maxtemp_regression.png\")\n",
    "plt.tight_layout()\n",
    "plt.show()"
   ]
  },
  {
   "cell_type": "code",
   "execution_count": null,
   "metadata": {},
   "outputs": [],
   "source": [
    "x_values = south_df['Lat']\n",
    "y_values = south_df['Temp']\n",
    "figure(figsize=(8,8), dpi=80)\n",
    "(slope, intercept, rvalue, pvalue, stderr) = linregress(x_values, y_values)\n",
    "regress_values = x_values * slope + intercept\n",
    "line_eq = \"y = \" + str(round(slope,2)) + \"x + \" + str(round(intercept,2))\n",
    "plt.scatter(x_values,y_values)\n",
    "plt.plot(x_values,regress_values,\"r-\")\n",
    "plt.annotate(line_eq,(-50,80),fontsize=15,color=\"red\")\n",
    "plt.xlabel('Latitude')\n",
    "plt.ylabel('Max Temp (F)')\n",
    "plt.title('Southern Winery Latitude vs. Temperature (10/03/21)')\n",
    "print(f\"The r-value is: {rvalue}\")\n",
    "# plt.savefig(\"images/south_lat_maxtemp_regression.png\")\n",
    "plt.tight_layout()\n",
    "plt.show()"
   ]
  },
  {
   "cell_type": "code",
   "execution_count": null,
   "metadata": {},
   "outputs": [],
   "source": [
    "# Lat vs temp\n",
    "from matplotlib.pyplot import figure``\n",
    "figure(figsize=(8,10), dpi=80)\n",
    "x_values = weather_clean['Lat']\n",
    "y_values = weather_clean['Price']\n",
    "plt.scatter(x_values,y_values, edgecolors=\"black\")\n",
    "plt.title('Winery Latitude vs. Price (10/03/21)')\n",
    "plt.xlabel('Latitude')\n",
    "plt.ylabel('Price ($ USD)')\n",
    "plt.grid(b=True, axis='both')\n",
    "plt.tight_layout()\n",
    "\n",
    "# plt.savefig(\"../images/lat_temp.png\")\n",
    "plt.show();"
   ]
  },
  {
   "cell_type": "code",
   "execution_count": null,
   "metadata": {},
   "outputs": [],
   "source": [
    "x_values = north_df['Lat']\n",
    "y_values = north_df['Price']\n",
    "figure(figsize=(8,10), dpi=80)\n",
    "(slope, intercept, rvalue, pvalue, stderr) = linregress(x_values, y_values)\n",
    "regress_values = x_values * slope + intercept\n",
    "line_eq = \"y = \" + str(round(slope,2)) + \"x + \" + str(round(intercept,2))\n",
    "plt.scatter(x_values,y_values)\n",
    "plt.plot(x_values,regress_values,\"r-\")\n",
    "plt.annotate(line_eq,(10,40),fontsize=15,color=\"red\")\n",
    "plt.xlabel('Winery Latitude')\n",
    "plt.ylabel('Price ($ USD)')\n",
    "plt.title('Northern Winery Latitude vs. Price (10/03/21)')\n",
    "print(f\"The r-value is: {rvalue}\")\n",
    "# plt.savefig(\"images/north_lat_maxtemp_regression.png\")\n",
    "plt.tight_layout()\n",
    "plt.show()"
   ]
  },
  {
   "cell_type": "code",
   "execution_count": null,
   "metadata": {},
   "outputs": [],
   "source": [
    "x_values = south_df['Lat']\n",
    "y_values = south_df['Price']\n",
    "figure(figsize=(8,8), dpi=80)\n",
    "(slope, intercept, rvalue, pvalue, stderr) = linregress(x_values, y_values)\n",
    "regress_values = x_values * slope + intercept\n",
    "line_eq = \"y = \" + str(round(slope,2)) + \"x + \" + str(round(intercept,2))\n",
    "plt.scatter(x_values,y_values)\n",
    "plt.plot(x_values,regress_values,\"r-\")\n",
    "plt.annotate(line_eq,(-50,80),fontsize=15,color=\"red\")\n",
    "plt.xlabel('Latitude')\n",
    "plt.ylabel('Price ($ USD)')\n",
    "plt.title('Southern Winery Latitude vs. Price (10/03/21)')\n",
    "print(f\"The r-value is: {rvalue}\")\n",
    "# plt.savefig(\"images/south_lat_maxtemp_regression.png\")\n",
    "plt.tight_layout()\n",
    "plt.show()"
   ]
  },
  {
   "cell_type": "code",
   "execution_count": null,
   "metadata": {},
   "outputs": [],
   "source": [
    "df_varietal = df.groupby(by='Grape Type')\n",
    "df_var = df_varietal.count()\n",
    "df_sorted = df_var.sort_values(by='Winery', ascending=False)\n",
    "df25 = df_sorted.head(25)\n",
    "top_grape = df25.index\n",
    "tg = pd.DataFrame(top_grape)\n",
    "tg_mean = df.groupby(by='Grape Type').mean()\n",
    "tg_merge = pd.merge(tg, tg_mean, how='left', right_index=True, left_on='Grape Type')\n",
    "tg_mean\n",
    "tg_merge\n"
   ]
  },
  {
   "cell_type": "code",
   "execution_count": null,
   "metadata": {},
   "outputs": [],
   "source": []
  },
  {
   "cell_type": "code",
   "execution_count": null,
   "metadata": {},
   "outputs": [],
   "source": [
    "reindexed = tg_merge.set_index('Grape Type')\n",
    "reindexed"
   ]
  },
  {
   "cell_type": "code",
   "execution_count": null,
   "metadata": {},
   "outputs": [],
   "source": []
  },
  {
   "cell_type": "code",
   "execution_count": null,
   "metadata": {},
   "outputs": [],
   "source": []
  }
 ],
 "metadata": {
  "interpreter": {
   "hash": "4e16bc90bb1be4fcd3e766e2f5d73f05719f516a7206bf1e9e77281fd34acfc0"
  },
  "kernelspec": {
   "display_name": "Python 3",
   "language": "python",
   "name": "python3"
  },
  "language_info": {
   "codemirror_mode": {
    "name": "ipython",
    "version": 3
   },
   "file_extension": ".py",
   "mimetype": "text/x-python",
   "name": "python",
   "nbconvert_exporter": "python",
   "pygments_lexer": "ipython3",
   "version": "3.8.8"
  }
 },
 "nbformat": 4,
 "nbformat_minor": 2
}
