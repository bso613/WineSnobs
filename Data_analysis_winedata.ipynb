{
 "cells": [
  {
   "cell_type": "markdown",
   "id": "06bfbc09",
   "metadata": {},
   "source": [
    "# Data Analysis"
   ]
  },
  {
   "cell_type": "code",
   "execution_count": null,
   "id": "33d8590a",
   "metadata": {},
   "outputs": [],
   "source": [
    "#Importing Dependencies\n",
    "import pandas as pd\n",
    "import matplotlib.pyplot as plt\n",
    "import seaborn as sns\n",
    "import numpy as np\n",
    "from scipy.stats import linregress"
   ]
  },
  {
   "cell_type": "code",
   "execution_count": null,
   "id": "9fe93d85",
   "metadata": {},
   "outputs": [],
   "source": [
    "# Import Cleaned WineData to DF\n",
    "df = pd.read_csv('archive/clean_winedata.csv', index_col=0)\n",
    "# Import Cleaned LocationData to DF\n",
    "df_location = pd.read_csv('archive/location_coords.csv', index_col=0)\n",
    "\n",
    "# Import Cleaned WeatherData to DF\n",
    "weather_clean = pd.read_csv('archive/weather_data.csv', index_col=0)"
   ]
  },
  {
   "cell_type": "code",
   "execution_count": null,
   "id": "18dd5924",
   "metadata": {},
   "outputs": [],
   "source": [
    "# Displaying boxplot/IQR of prices of wines by country\n",
    "country = sns.boxplot(y=\"Country\", x=\"Price\", data=df, whis=np.inf)\n",
    "#country = sns.stripplot(y=\"Country\", x=\"Price\", data=df, color=\".3\")\n",
    "country = sns.set(rc={'figure.figsize':(20,80)}, font_scale= 1.5)"
   ]
  },
  {
   "cell_type": "code",
   "execution_count": null,
   "id": "2a19671b",
   "metadata": {},
   "outputs": [],
   "source": [
    "#Describing the main data frame\n",
    "df.describe()"
   ]
  },
  {
   "cell_type": "code",
   "execution_count": null,
   "id": "a9d37d2d",
   "metadata": {},
   "outputs": [],
   "source": []
  }
 ],
 "metadata": {
  "kernelspec": {
   "display_name": "Python 3",
   "language": "python",
   "name": "python3"
  },
  "language_info": {
   "codemirror_mode": {
    "name": "ipython",
    "version": 3
   },
   "file_extension": ".py",
   "mimetype": "text/x-python",
   "name": "python",
   "nbconvert_exporter": "python",
   "pygments_lexer": "ipython3",
   "version": "3.6.13"
  }
 },
 "nbformat": 4,
 "nbformat_minor": 5
}
